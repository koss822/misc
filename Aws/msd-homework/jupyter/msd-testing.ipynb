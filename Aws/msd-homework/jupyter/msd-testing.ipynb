{
 "cells": [
  {
   "cell_type": "code",
   "execution_count": 22,
   "metadata": {},
   "outputs": [],
   "source": [
    "import json\n",
    "import gzip\n",
    "from json.decoder import JSONDecodeError\n",
    "import boto3\n",
    "import requests\n",
    "from pathlib import Path\n",
    "\n",
    "url = \"http://bulk.openweathermap.org/sample/daily_14.json.gz\"\n",
    "tmpFile = \"daily_14.json.gz\"\n",
    "htmlFile = \"msd.html\"\n",
    "bucket = \"aws-public\"\n",
    "\n",
    "\n",
    "# Download file\n",
    "r = requests.get(url)\n",
    "filename = Path(tmpFile)\n",
    "filename.write_bytes(r.content)\n",
    "\n",
    "# Upload file to S3\n",
    "s3 = boto3.client('s3')\n",
    "with open(tmpFile, \"rb\") as f:\n",
    "    s3.upload_fileobj(f, bucket, tmpFile)\n",
    "\n",
    "def load_data(mystr):\n",
    "    splitted = mystr.split('\\n')\n",
    "    for e in splitted:\n",
    "        try:\n",
    "            yield json.loads(e)\n",
    "        except GeneratorExit:\n",
    "            raise GeneratorExit\n",
    "        except:\n",
    "            pass\n",
    "\n",
    "with gzip.open(\"daily_14.json.gz\", 'rb') as jsgz:\n",
    "    json_bytes = jsgz.read()\n",
    "\n",
    "json_str = json_bytes.decode('utf-8')\n",
    "data = load_data(json_str)\n",
    "for line in data:\n",
    "    if line[\"city\"][\"name\"] == \"Prague\":\n",
    "        clouds = line[\"data\"][0][\"clouds\"]\n",
    "        break\n",
    "\n",
    "htmlclouds = \"\"\n",
    "for i in range(int(clouds)): \n",
    "    htmlclouds+=\"<img src=\\\"cloud-icon-small.png\\\" />\"\n",
    "\n",
    "html = f\"\"\"\n",
    "<html><body>\n",
    "<h2>Prague</h2>\n",
    "<h3>Clouds: {clouds}</j3>\n",
    "<hr />\n",
    "{htmlclouds}\n",
    "</body></html>\n",
    "\"\"\"\n",
    "\n",
    "with open(htmlFile, \"w\") as hfile:\n",
    "    hfile.write(html)\n",
    "\n",
    "with open(htmlFile, \"rb\") as f:\n",
    "    s3.upload_fileobj(f, bucket, htmlFile)"
   ]
  },
  {
   "cell_type": "code",
   "execution_count": null,
   "metadata": {},
   "outputs": [],
   "source": []
  },
  {
   "cell_type": "code",
   "execution_count": null,
   "metadata": {},
   "outputs": [],
   "source": []
  }
 ],
 "metadata": {
  "interpreter": {
   "hash": "9b3fab0a9a9c00014dfe8255260c50c6287bf685870aa451dc87a8ca6108fa53"
  },
  "kernelspec": {
   "display_name": "Python 3.8.0 64-bit",
   "language": "python",
   "name": "python3"
  },
  "language_info": {
   "codemirror_mode": {
    "name": "ipython",
    "version": 3
   },
   "file_extension": ".py",
   "mimetype": "text/x-python",
   "name": "python",
   "nbconvert_exporter": "python",
   "pygments_lexer": "ipython3",
   "version": "3.8.0"
  },
  "orig_nbformat": 4
 },
 "nbformat": 4,
 "nbformat_minor": 2
}
